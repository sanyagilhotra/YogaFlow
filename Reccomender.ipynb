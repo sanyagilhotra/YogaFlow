{
 "cells": [
  {
   "cell_type": "code",
   "execution_count": 1,
   "metadata": {},
   "outputs": [
    {
     "name": "stderr",
     "output_type": "stream",
     "text": [
      "/var/folders/zj/v2lfvlss2_764d771fy6f6yc0000gn/T/ipykernel_23640/3058477323.py:1: DeprecationWarning: \n",
      "Pyarrow will become a required dependency of pandas in the next major release of pandas (pandas 3.0),\n",
      "(to allow more performant data types, such as the Arrow string type, and better interoperability with other libraries)\n",
      "but was not found to be installed on your system.\n",
      "If this would cause problems for you,\n",
      "please provide us feedback at https://github.com/pandas-dev/pandas/issues/54466\n",
      "        \n",
      "  import pandas as pd\n"
     ]
    }
   ],
   "source": [
    "import pandas as pd\n",
    "import numpy as np\n",
    "from nltk import word_tokenize\n",
    "from sklearn.feature_extraction.text import TfidfVectorizer\n",
    "from sklearn.metrics.pairwise import cosine_similarity"
   ]
  },
  {
   "cell_type": "code",
   "execution_count": 2,
   "metadata": {},
   "outputs": [],
   "source": [
    "yog_benefits=pd.read_csv(\"Yog_poses.csv\")\n"
   ]
  },
  {
   "cell_type": "code",
   "execution_count": 3,
   "metadata": {},
   "outputs": [
    {
     "data": {
      "text/html": [
       "<div>\n",
       "<style scoped>\n",
       "    .dataframe tbody tr th:only-of-type {\n",
       "        vertical-align: middle;\n",
       "    }\n",
       "\n",
       "    .dataframe tbody tr th {\n",
       "        vertical-align: top;\n",
       "    }\n",
       "\n",
       "    .dataframe thead th {\n",
       "        text-align: right;\n",
       "    }\n",
       "</style>\n",
       "<table border=\"1\" class=\"dataframe\">\n",
       "  <thead>\n",
       "    <tr style=\"text-align: right;\">\n",
       "      <th></th>\n",
       "      <th>S.no.</th>\n",
       "      <th>Yoga Poses</th>\n",
       "      <th>Levels of Difficulty</th>\n",
       "      <th>Health Benefits</th>\n",
       "      <th>Joints Targeted</th>\n",
       "      <th>Joints Targeted New</th>\n",
       "      <th>Other Benefits</th>\n",
       "      <th>Unnamed: 7</th>\n",
       "    </tr>\n",
       "  </thead>\n",
       "  <tbody>\n",
       "    <tr>\n",
       "      <th>0</th>\n",
       "      <td>1</td>\n",
       "      <td>Eagle</td>\n",
       "      <td>Intermediate</td>\n",
       "      <td>Balance, Focus, Shoulders, Hips</td>\n",
       "      <td>Hips, Shoulders, Knees, Ankles</td>\n",
       "      <td>Hips Shoulders Knees Ankles</td>\n",
       "      <td>Arthritis, Balance Disorders, Anxiety, Stress</td>\n",
       "      <td>Arthritis Balance Disorders Anxiety Stress</td>\n",
       "    </tr>\n",
       "    <tr>\n",
       "      <th>1</th>\n",
       "      <td>2</td>\n",
       "      <td>Tree</td>\n",
       "      <td>Intermediate</td>\n",
       "      <td>Balance, Stability, Strengthning, Leg Muscles</td>\n",
       "      <td>Ankles, Knees, Hips, Shoulders</td>\n",
       "      <td>Ankles Knees Hips Shoulders</td>\n",
       "      <td>Balance Disorders, Anxiety, Stress, Concentration</td>\n",
       "      <td>Balance Disorders Anxiety Stress Concentration</td>\n",
       "    </tr>\n",
       "    <tr>\n",
       "      <th>2</th>\n",
       "      <td>3</td>\n",
       "      <td>Chair</td>\n",
       "      <td>Intermediate</td>\n",
       "      <td>Strengthening, Lower body muscles, Posture</td>\n",
       "      <td>Knees, Hips, Spine, Shoulders</td>\n",
       "      <td>Knees Hips Spine Shoulders</td>\n",
       "      <td>Posture Issues, Circulatory Disorders, Fatigue</td>\n",
       "      <td>Posture Issues Circulatory Disorders Fatigue</td>\n",
       "    </tr>\n",
       "    <tr>\n",
       "      <th>3</th>\n",
       "      <td>4</td>\n",
       "      <td>Standing Forward Bend</td>\n",
       "      <td>Intermediate</td>\n",
       "      <td>Relieves tension, Spine, hamstrings, Mind Calming</td>\n",
       "      <td>Hips, Hamstrings, Spine</td>\n",
       "      <td>Hips Hamstrings Spine</td>\n",
       "      <td>Anxiety, Stress, Lower Back Pain, Fatigue</td>\n",
       "      <td>Anxiety Stress Lower Back Pain Fatigue</td>\n",
       "    </tr>\n",
       "    <tr>\n",
       "      <th>4</th>\n",
       "      <td>5</td>\n",
       "      <td>Wide-Legged Forward Bend</td>\n",
       "      <td>Basic</td>\n",
       "      <td>Stretching, Inner thighs, Hamstrings, Digestion</td>\n",
       "      <td>Hips, Hamstrings, Spine</td>\n",
       "      <td>Hips Hamstrings Spine</td>\n",
       "      <td>Depression, Anxiety, Digestive Disorders, Stress</td>\n",
       "      <td>Depression Anxiety Digestive Disorders Stress</td>\n",
       "    </tr>\n",
       "  </tbody>\n",
       "</table>\n",
       "</div>"
      ],
      "text/plain": [
       "   S.no.                Yoga Poses Levels of Difficulty  \\\n",
       "0      1                     Eagle         Intermediate   \n",
       "1      2                      Tree         Intermediate   \n",
       "2      3                     Chair         Intermediate   \n",
       "3      4     Standing Forward Bend         Intermediate   \n",
       "4      5  Wide-Legged Forward Bend                Basic   \n",
       "\n",
       "                                     Health Benefits  \\\n",
       "0                    Balance, Focus, Shoulders, Hips   \n",
       "1      Balance, Stability, Strengthning, Leg Muscles   \n",
       "2         Strengthening, Lower body muscles, Posture   \n",
       "3  Relieves tension, Spine, hamstrings, Mind Calming   \n",
       "4    Stretching, Inner thighs, Hamstrings, Digestion   \n",
       "\n",
       "                  Joints Targeted          Joints Targeted New  \\\n",
       "0  Hips, Shoulders, Knees, Ankles  Hips Shoulders Knees Ankles   \n",
       "1  Ankles, Knees, Hips, Shoulders  Ankles Knees Hips Shoulders   \n",
       "2   Knees, Hips, Spine, Shoulders   Knees Hips Spine Shoulders   \n",
       "3         Hips, Hamstrings, Spine        Hips Hamstrings Spine   \n",
       "4         Hips, Hamstrings, Spine        Hips Hamstrings Spine   \n",
       "\n",
       "                                      Other Benefits  \\\n",
       "0      Arthritis, Balance Disorders, Anxiety, Stress   \n",
       "1  Balance Disorders, Anxiety, Stress, Concentration   \n",
       "2     Posture Issues, Circulatory Disorders, Fatigue   \n",
       "3          Anxiety, Stress, Lower Back Pain, Fatigue   \n",
       "4   Depression, Anxiety, Digestive Disorders, Stress   \n",
       "\n",
       "                                       Unnamed: 7  \n",
       "0      Arthritis Balance Disorders Anxiety Stress  \n",
       "1  Balance Disorders Anxiety Stress Concentration  \n",
       "2    Posture Issues Circulatory Disorders Fatigue  \n",
       "3          Anxiety Stress Lower Back Pain Fatigue  \n",
       "4   Depression Anxiety Digestive Disorders Stress  "
      ]
     },
     "execution_count": 3,
     "metadata": {},
     "output_type": "execute_result"
    }
   ],
   "source": [
    "yog_benefits.head()"
   ]
  },
  {
   "cell_type": "code",
   "execution_count": 4,
   "metadata": {},
   "outputs": [
    {
     "data": {
      "text/plain": [
       "str"
      ]
     },
     "execution_count": 4,
     "metadata": {},
     "output_type": "execute_result"
    }
   ],
   "source": [
    "type(yog_benefits['Joints Targeted New'][0])"
   ]
  },
  {
   "cell_type": "code",
   "execution_count": 5,
   "metadata": {},
   "outputs": [],
   "source": [
    "str=''\n",
    "for i in range(0,81):\n",
    "    str=str+yog_benefits['Joints Targeted New'][i]+\" \""
   ]
  },
  {
   "cell_type": "code",
   "execution_count": 6,
   "metadata": {},
   "outputs": [],
   "source": [
    "list1=str.split()"
   ]
  },
  {
   "cell_type": "code",
   "execution_count": 7,
   "metadata": {},
   "outputs": [
    {
     "data": {
      "text/plain": [
       "['Hips',\n",
       " 'Shoulders',\n",
       " 'Knees',\n",
       " 'Ankles',\n",
       " 'Ankles',\n",
       " 'Knees',\n",
       " 'Hips',\n",
       " 'Shoulders',\n",
       " 'Knees',\n",
       " 'Hips',\n",
       " 'Spine',\n",
       " 'Shoulders',\n",
       " 'Hips',\n",
       " 'Hamstrings',\n",
       " 'Spine',\n",
       " 'Hips',\n",
       " 'Hamstrings',\n",
       " 'Spine',\n",
       " 'Shoulders',\n",
       " 'Hamstrings',\n",
       " 'Core',\n",
       " 'Shoulders',\n",
       " 'Hamstrings',\n",
       " 'Calves',\n",
       " 'Hamstrings',\n",
       " 'Groins',\n",
       " 'Shoulders',\n",
       " 'Ankles',\n",
       " 'Knees',\n",
       " 'Hips',\n",
       " 'Shoulders',\n",
       " 'Hips',\n",
       " 'Hamstrings',\n",
       " 'Shoulders',\n",
       " 'Hips',\n",
       " 'Groins',\n",
       " 'Shoulders',\n",
       " 'Chest',\n",
       " 'Hips',\n",
       " 'Shoulders',\n",
       " 'Spine',\n",
       " 'Knees',\n",
       " 'Hips',\n",
       " 'Knees',\n",
       " 'Ankles',\n",
       " 'Shoulders',\n",
       " 'Hips',\n",
       " 'Groins',\n",
       " 'Shoulders',\n",
       " 'Hips',\n",
       " 'Quadriceps',\n",
       " 'Ankles',\n",
       " 'Hips',\n",
       " 'Knees',\n",
       " 'Ankles',\n",
       " 'Shoulders',\n",
       " 'Hips',\n",
       " 'Hamstrings',\n",
       " 'Ankles',\n",
       " 'Core',\n",
       " 'Hips',\n",
       " 'Quadriceps',\n",
       " 'Shoulders',\n",
       " 'Hips',\n",
       " 'Hamstrings',\n",
       " 'Ankles',\n",
       " 'Hamstrings',\n",
       " 'Calves',\n",
       " 'Hips',\n",
       " 'Hips',\n",
       " 'Spine',\n",
       " 'Hamstrings',\n",
       " 'Hips',\n",
       " 'Groins',\n",
       " 'Lower_Back',\n",
       " 'Hips',\n",
       " 'Ankles',\n",
       " 'Lower_Back',\n",
       " 'Hips',\n",
       " 'Knees',\n",
       " 'Spine',\n",
       " 'Neck',\n",
       " 'Shoulders',\n",
       " 'Hips',\n",
       " 'Knees',\n",
       " 'Shoulders',\n",
       " 'Hips',\n",
       " 'Ankles',\n",
       " 'Ankles',\n",
       " 'Knees',\n",
       " 'Hips',\n",
       " 'Spine',\n",
       " 'Spine',\n",
       " 'Shoulders',\n",
       " 'Hips',\n",
       " 'Hips',\n",
       " 'Spine',\n",
       " 'Shoulders',\n",
       " 'Hips',\n",
       " 'Hamstrings',\n",
       " 'Groins',\n",
       " 'Hips',\n",
       " 'Hamstrings',\n",
       " 'Spine',\n",
       " 'Hamstrings',\n",
       " 'Lower_Back',\n",
       " 'Hips',\n",
       " 'Spine',\n",
       " 'Hamstrings',\n",
       " 'Hips',\n",
       " 'Hamstrings',\n",
       " 'Lower_Back',\n",
       " 'Hips',\n",
       " 'Hips',\n",
       " 'Lower_Back',\n",
       " 'Shoulders',\n",
       " 'Hips',\n",
       " 'Quadriceps',\n",
       " 'Shoulders',\n",
       " 'Hips',\n",
       " 'Hamstrings',\n",
       " 'Spine',\n",
       " 'Hips',\n",
       " 'Quadriceps',\n",
       " 'Shoulders',\n",
       " 'Wrists',\n",
       " 'Shoulders',\n",
       " 'Core',\n",
       " 'Shoulders',\n",
       " 'Arms',\n",
       " 'Core',\n",
       " 'Hips',\n",
       " 'Ankles',\n",
       " 'Core',\n",
       " 'Hips',\n",
       " 'Core',\n",
       " 'Arms',\n",
       " 'Hips',\n",
       " 'Hamstrings',\n",
       " 'Core',\n",
       " 'Wrists',\n",
       " 'Shoulders',\n",
       " 'Core',\n",
       " 'Wrists',\n",
       " 'Shoulders',\n",
       " 'Core',\n",
       " 'Hips',\n",
       " 'Groins',\n",
       " 'Spine',\n",
       " 'Wrists',\n",
       " 'Shoulders',\n",
       " 'Core',\n",
       " 'Neck',\n",
       " 'Shoulders',\n",
       " 'Core',\n",
       " 'Neck',\n",
       " 'Shoulders',\n",
       " 'Core',\n",
       " 'Wrists',\n",
       " 'Shoulders',\n",
       " 'Core',\n",
       " 'Hamstrings',\n",
       " 'Lower_Back',\n",
       " 'Hips',\n",
       " 'Spine',\n",
       " 'Shoulders',\n",
       " 'Hips',\n",
       " 'Spine',\n",
       " 'Shoulders',\n",
       " 'Core',\n",
       " 'Spine',\n",
       " 'Lower_Back',\n",
       " 'Chest',\n",
       " 'Shoulders',\n",
       " 'Core',\n",
       " 'Chest',\n",
       " 'Neck',\n",
       " 'Spine',\n",
       " 'Hips',\n",
       " 'Groins',\n",
       " 'Lower_Back',\n",
       " 'Hamstrings',\n",
       " 'Lower_Back',\n",
       " 'Hips',\n",
       " 'Hips',\n",
       " 'Lower_Back',\n",
       " 'Hips',\n",
       " 'Groins',\n",
       " 'Lower_Back',\n",
       " 'Knees',\n",
       " 'Hips',\n",
       " 'Quadriceps',\n",
       " 'Spine',\n",
       " 'Lower_Back',\n",
       " 'Chest',\n",
       " 'Shoulders',\n",
       " 'Core',\n",
       " 'Spine',\n",
       " 'Shoulders',\n",
       " 'Chest',\n",
       " 'Hips',\n",
       " 'Groins',\n",
       " 'Lower_Back',\n",
       " 'Spine',\n",
       " 'Shoulders',\n",
       " 'Glutes',\n",
       " 'Hips',\n",
       " 'Lower_Back',\n",
       " 'Shoulders',\n",
       " 'Shoulders',\n",
       " 'Spine',\n",
       " 'Chest',\n",
       " 'Hips',\n",
       " 'Groins',\n",
       " 'Shoulders',\n",
       " 'Wrists',\n",
       " 'Shoulders',\n",
       " 'Core',\n",
       " 'Shoulders',\n",
       " 'Core',\n",
       " 'Hips',\n",
       " 'Wrists',\n",
       " 'Shoulders',\n",
       " 'Core',\n",
       " 'Shoulders',\n",
       " 'Core',\n",
       " 'Wrists',\n",
       " 'Shoulders',\n",
       " 'Core',\n",
       " 'Spine',\n",
       " 'Shoulders',\n",
       " 'Hips',\n",
       " 'Wrists',\n",
       " 'Shoulders',\n",
       " 'Wrists',\n",
       " 'Shoulders',\n",
       " 'Core',\n",
       " 'Hips',\n",
       " 'Groins',\n",
       " 'Lower_Back',\n",
       " 'Hips',\n",
       " 'Spine',\n",
       " 'Glutes',\n",
       " 'Spine',\n",
       " 'Shoulders',\n",
       " 'Hips',\n",
       " 'Hips',\n",
       " 'Spine',\n",
       " 'Shoulders',\n",
       " 'Spine',\n",
       " 'Shoulders',\n",
       " 'Core',\n",
       " 'Core',\n",
       " 'Hips']"
      ]
     },
     "execution_count": 7,
     "metadata": {},
     "output_type": "execute_result"
    }
   ],
   "source": [
    "list1"
   ]
  },
  {
   "cell_type": "code",
   "execution_count": 8,
   "metadata": {},
   "outputs": [],
   "source": [
    "set1=set(list1)"
   ]
  },
  {
   "cell_type": "code",
   "execution_count": 9,
   "metadata": {},
   "outputs": [
    {
     "data": {
      "text/plain": [
       "{'Ankles',\n",
       " 'Arms',\n",
       " 'Calves',\n",
       " 'Chest',\n",
       " 'Core',\n",
       " 'Glutes',\n",
       " 'Groins',\n",
       " 'Hamstrings',\n",
       " 'Hips',\n",
       " 'Knees',\n",
       " 'Lower_Back',\n",
       " 'Neck',\n",
       " 'Quadriceps',\n",
       " 'Shoulders',\n",
       " 'Spine',\n",
       " 'Wrists'}"
      ]
     },
     "execution_count": 9,
     "metadata": {},
     "output_type": "execute_result"
    }
   ],
   "source": [
    "set1"
   ]
  },
  {
   "cell_type": "code",
   "execution_count": 10,
   "metadata": {},
   "outputs": [],
   "source": [
    "x={'Yoga Poses':\"User 1\",'Joints Targeted New':\"Ankles Knees Spine\"}\n",
    "x_df = pd.DataFrame([x])\n",
    "yog_benefits = pd.concat([yog_benefits, x_df], ignore_index=True)"
   ]
  },
  {
   "cell_type": "code",
   "execution_count": 11,
   "metadata": {},
   "outputs": [
    {
     "name": "stdout",
     "output_type": "stream",
     "text": [
      "<class 'pandas.core.series.Series'>\n"
     ]
    }
   ],
   "source": [
    "joints=yog_benefits['Joints Targeted New']\n",
    "print(type(joints))"
   ]
  },
  {
   "cell_type": "code",
   "execution_count": 12,
   "metadata": {},
   "outputs": [
    {
     "data": {
      "text/plain": [
       "0     Hips Shoulders Knees Ankles\n",
       "1     Ankles Knees Hips Shoulders\n",
       "2      Knees Hips Spine Shoulders\n",
       "3           Hips Hamstrings Spine\n",
       "4           Hips Hamstrings Spine\n",
       "                 ...             \n",
       "78           Hips Spine Shoulders\n",
       "79           Spine Shoulders Core\n",
       "80                      Core Hips\n",
       "81           Spine Shoulders Hips\n",
       "82             Ankles Knees Spine\n",
       "Name: Joints Targeted New, Length: 83, dtype: object"
      ]
     },
     "execution_count": 12,
     "metadata": {},
     "output_type": "execute_result"
    }
   ],
   "source": [
    "joints"
   ]
  },
  {
   "cell_type": "code",
   "execution_count": 13,
   "metadata": {},
   "outputs": [],
   "source": [
    "tfidf = TfidfVectorizer(analyzer='word', stop_words='english')\n",
    "lyrics_matrix = tfidf.fit_transform(joints)\n"
   ]
  },
  {
   "cell_type": "code",
   "execution_count": 14,
   "metadata": {},
   "outputs": [],
   "source": [
    "cosine_similarities = cosine_similarity(lyrics_matrix) \n",
    "similarities = {}"
   ]
  },
  {
   "cell_type": "code",
   "execution_count": 15,
   "metadata": {},
   "outputs": [
    {
     "data": {
      "text/plain": [
       "S.no.                                  NaN\n",
       "Yoga Poses                          User 1\n",
       "Levels of Difficulty                   NaN\n",
       "Health Benefits                        NaN\n",
       "Joints Targeted                        NaN\n",
       "Joints Targeted New     Ankles Knees Spine\n",
       "Other Benefits                         NaN\n",
       "Unnamed: 7                             NaN\n",
       "Name: 82, dtype: object"
      ]
     },
     "execution_count": 15,
     "metadata": {},
     "output_type": "execute_result"
    }
   ],
   "source": [
    "yog_benefits.iloc[82]"
   ]
  },
  {
   "cell_type": "code",
   "execution_count": 16,
   "metadata": {},
   "outputs": [],
   "source": [
    "for i in range(len(cosine_similarities)):\n",
    "    similar_indices = cosine_similarities[i].argsort()[:-50:-1] \n",
    "    similarities[yog_benefits['Joints Targeted New'].iloc[i]] = [(cosine_similarities[i][x], yog_benefits['Joints Targeted New'].iloc[x], yog_benefits['Yoga Poses'][x]) for x in similar_indices][1:]"
   ]
  },
  {
   "cell_type": "code",
   "execution_count": 17,
   "metadata": {},
   "outputs": [],
   "source": [
    "class ContentBasedRecommender:\n",
    "    def __init__(self, matrix):\n",
    "        self.matrix_similar = matrix\n",
    "\n",
    "    def _print_message(self, pose, recom_pose):\n",
    "        rec_items = len(recom_pose)\n",
    "        \n",
    "        print(f'Yoga Poses:')\n",
    "        for i in range(rec_items):\n",
    "            print(f\"Pose {i+1}:\",end=' ')\n",
    "            print(f\"{recom_pose[i][2]}\") \n",
    "            print(\"--------------------\")\n",
    "        \n",
    "    def recommend(self, recommendation):\n",
    "        # Get joints to find recommendations for\n",
    "        joint_poses = recommendation['poses']\n",
    "        # Get number of poses to recommend\n",
    "        number_poses = recommendation['number_of_poses']\n",
    "        # Get the number of most similar similars from matrix similarities\n",
    "        recom_pose = self.matrix_similar[joint_poses][:number_poses]\n",
    "        # print each item\n",
    "        self._print_message(pose=joint_poses, recom_pose=recom_pose)"
   ]
  },
  {
   "cell_type": "code",
   "execution_count": 18,
   "metadata": {},
   "outputs": [],
   "source": [
    "recommedations = ContentBasedRecommender(similarities)"
   ]
  },
  {
   "cell_type": "code",
   "execution_count": 19,
   "metadata": {},
   "outputs": [],
   "source": [
    "recommendation2 = {\n",
    "    \"poses\": yog_benefits['Joints Targeted New'].iloc[82],\n",
    "    \"number_of_poses\": 10 \n",
    "}"
   ]
  },
  {
   "cell_type": "code",
   "execution_count": 20,
   "metadata": {},
   "outputs": [
    {
     "name": "stdout",
     "output_type": "stream",
     "text": [
      "Yoga Poses:\n",
      "Pose 1: Hero and Thunderbolt\n",
      "--------------------\n",
      "Pose 2: Tree\n",
      "--------------------\n",
      "Pose 3: Half Moon\n",
      "--------------------\n",
      "Pose 4: Warrior I\n",
      "--------------------\n",
      "Pose 5: Warrior II\n",
      "--------------------\n",
      "Pose 6: Eagle\n",
      "--------------------\n",
      "Pose 7: Staff\n",
      "--------------------\n",
      "Pose 8: Gate\n",
      "--------------------\n",
      "Pose 9: Chair\n",
      "--------------------\n",
      "Pose 10: Cow Face\n",
      "--------------------\n"
     ]
    }
   ],
   "source": [
    "recommedations.recommend(recommendation2)"
   ]
  },
  {
   "cell_type": "code",
   "execution_count": 21,
   "metadata": {},
   "outputs": [],
   "source": [
    "# import tkinter as tk\n",
    "# win=tk.Tk()\n",
    "# win.title(\"YogaFlow\")\n",
    "# win.minsize(600,600)\n",
    "# win.mainloop()"
   ]
  }
 ],
 "metadata": {
  "kernelspec": {
   "display_name": "Python 3",
   "language": "python",
   "name": "python3"
  },
  "language_info": {
   "codemirror_mode": {
    "name": "ipython",
    "version": 3
   },
   "file_extension": ".py",
   "mimetype": "text/x-python",
   "name": "python",
   "nbconvert_exporter": "python",
   "pygments_lexer": "ipython3",
   "version": "3.11.4"
  }
 },
 "nbformat": 4,
 "nbformat_minor": 2
}
